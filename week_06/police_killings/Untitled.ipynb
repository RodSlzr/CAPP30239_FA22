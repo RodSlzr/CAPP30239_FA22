{
 "cells": [
  {
   "cell_type": "markdown",
   "id": "17172cb3",
   "metadata": {},
   "source": [
    "# Processing Police Killings Data"
   ]
  },
  {
   "cell_type": "code",
   "execution_count": 1,
   "id": "4f7cd1ad",
   "metadata": {},
   "outputs": [],
   "source": [
    "import pandas as pd"
   ]
  },
  {
   "cell_type": "code",
   "execution_count": 2,
   "id": "c84687ba",
   "metadata": {},
   "outputs": [],
   "source": [
    "data = pd.read_json('a3cleanedonly2015.json')"
   ]
  },
  {
   "cell_type": "code",
   "execution_count": 4,
   "id": "0e5617d6",
   "metadata": {},
   "outputs": [
    {
     "data": {
      "text/html": [
       "<div>\n",
       "<style scoped>\n",
       "    .dataframe tbody tr th:only-of-type {\n",
       "        vertical-align: middle;\n",
       "    }\n",
       "\n",
       "    .dataframe tbody tr th {\n",
       "        vertical-align: top;\n",
       "    }\n",
       "\n",
       "    .dataframe thead th {\n",
       "        text-align: right;\n",
       "    }\n",
       "</style>\n",
       "<table border=\"1\" class=\"dataframe\">\n",
       "  <thead>\n",
       "    <tr style=\"text-align: right;\">\n",
       "      <th></th>\n",
       "      <th>FIELD1</th>\n",
       "      <th>Unnamed: 0</th>\n",
       "      <th>UID</th>\n",
       "      <th>Name</th>\n",
       "      <th>Age</th>\n",
       "      <th>Gender</th>\n",
       "      <th>Race</th>\n",
       "      <th>Date</th>\n",
       "      <th>City</th>\n",
       "      <th>State</th>\n",
       "      <th>Manner_of_death</th>\n",
       "      <th>Armed</th>\n",
       "      <th>Mental_illness</th>\n",
       "      <th>Flee</th>\n",
       "    </tr>\n",
       "  </thead>\n",
       "  <tbody>\n",
       "    <tr>\n",
       "      <th>0</th>\n",
       "      <td>103</td>\n",
       "      <td>104</td>\n",
       "      <td>9978</td>\n",
       "      <td>Tim Elliott</td>\n",
       "      <td>53.0</td>\n",
       "      <td>Male</td>\n",
       "      <td>Asian</td>\n",
       "      <td>2015-01-02</td>\n",
       "      <td>Shelton</td>\n",
       "      <td>WA</td>\n",
       "      <td>Shot</td>\n",
       "      <td></td>\n",
       "      <td>True</td>\n",
       "      <td>False</td>\n",
       "    </tr>\n",
       "    <tr>\n",
       "      <th>1</th>\n",
       "      <td>104</td>\n",
       "      <td>105</td>\n",
       "      <td>10077</td>\n",
       "      <td>Hung Trieu</td>\n",
       "      <td>NaN</td>\n",
       "      <td>Male</td>\n",
       "      <td>Asian</td>\n",
       "      <td>2015-02-01</td>\n",
       "      <td>Houston</td>\n",
       "      <td>TX</td>\n",
       "      <td>Shot</td>\n",
       "      <td></td>\n",
       "      <td>False</td>\n",
       "      <td>False</td>\n",
       "    </tr>\n",
       "    <tr>\n",
       "      <th>2</th>\n",
       "      <td>105</td>\n",
       "      <td>106</td>\n",
       "      <td>10374</td>\n",
       "      <td>Lue Vang</td>\n",
       "      <td>39.0</td>\n",
       "      <td>Male</td>\n",
       "      <td>Asian</td>\n",
       "      <td>2015-04-22</td>\n",
       "      <td>Eldorado Springs</td>\n",
       "      <td>CO</td>\n",
       "      <td>Shot</td>\n",
       "      <td></td>\n",
       "      <td>False</td>\n",
       "      <td>False</td>\n",
       "    </tr>\n",
       "    <tr>\n",
       "      <th>3</th>\n",
       "      <td>106</td>\n",
       "      <td>107</td>\n",
       "      <td>10421</td>\n",
       "      <td>Thong Kien Ma</td>\n",
       "      <td>32.0</td>\n",
       "      <td>Male</td>\n",
       "      <td>Asian</td>\n",
       "      <td>2015-05-05</td>\n",
       "      <td>South El Monte</td>\n",
       "      <td>CA</td>\n",
       "      <td>Shot</td>\n",
       "      <td></td>\n",
       "      <td>False</td>\n",
       "      <td>False</td>\n",
       "    </tr>\n",
       "    <tr>\n",
       "      <th>4</th>\n",
       "      <td>107</td>\n",
       "      <td>108</td>\n",
       "      <td>10628</td>\n",
       "      <td>Ton Nguyen</td>\n",
       "      <td>60.0</td>\n",
       "      <td>Male</td>\n",
       "      <td>Asian</td>\n",
       "      <td>2015-07-02</td>\n",
       "      <td>San Diego</td>\n",
       "      <td>CA</td>\n",
       "      <td>Shot</td>\n",
       "      <td></td>\n",
       "      <td>False</td>\n",
       "      <td>False</td>\n",
       "    </tr>\n",
       "  </tbody>\n",
       "</table>\n",
       "</div>"
      ],
      "text/plain": [
       "   FIELD1  Unnamed: 0    UID           Name   Age Gender   Race       Date  \\\n",
       "0     103         104   9978    Tim Elliott  53.0   Male  Asian 2015-01-02   \n",
       "1     104         105  10077     Hung Trieu   NaN   Male  Asian 2015-02-01   \n",
       "2     105         106  10374       Lue Vang  39.0   Male  Asian 2015-04-22   \n",
       "3     106         107  10421  Thong Kien Ma  32.0   Male  Asian 2015-05-05   \n",
       "4     107         108  10628     Ton Nguyen  60.0   Male  Asian 2015-07-02   \n",
       "\n",
       "               City State Manner_of_death Armed  Mental_illness   Flee  \n",
       "0           Shelton    WA            Shot                  True  False  \n",
       "1           Houston    TX            Shot                 False  False  \n",
       "2  Eldorado Springs    CO            Shot                 False  False  \n",
       "3    South El Monte    CA            Shot                 False  False  \n",
       "4         San Diego    CA            Shot                 False  False  "
      ]
     },
     "execution_count": 4,
     "metadata": {},
     "output_type": "execute_result"
    }
   ],
   "source": [
    "data.head()"
   ]
  },
  {
   "cell_type": "code",
   "execution_count": 55,
   "id": "c18201b6",
   "metadata": {},
   "outputs": [
    {
     "data": {
      "text/plain": [
       "Race\n",
       "            114\n",
       "Asian        19\n",
       "Black       378\n",
       "Hispanic    246\n",
       "Native       19\n",
       "Other        10\n",
       "White       751\n",
       "Name: Race, dtype: int64"
      ]
     },
     "execution_count": 55,
     "metadata": {},
     "output_type": "execute_result"
    }
   ],
   "source": [
    "data.groupby(['Race'])['Race'].count()"
   ]
  },
  {
   "cell_type": "code",
   "execution_count": 36,
   "id": "2d5cec87",
   "metadata": {},
   "outputs": [],
   "source": [
    "mental_illness_dist = data.groupby(['Mental_illness'])['Mental_illness'].count()"
   ]
  },
  {
   "cell_type": "code",
   "execution_count": 39,
   "id": "9cf8d25e",
   "metadata": {},
   "outputs": [],
   "source": [
    "ment_ill = pd.DataFrame(mental_illness_dist)"
   ]
  },
  {
   "cell_type": "code",
   "execution_count": 43,
   "id": "313b8555",
   "metadata": {},
   "outputs": [],
   "source": [
    "ment_ill = ment_ill.rename(columns = {\"Mental_illness\": \"Amount\"})"
   ]
  },
  {
   "cell_type": "code",
   "execution_count": 44,
   "id": "52075149",
   "metadata": {},
   "outputs": [
    {
     "data": {
      "text/html": [
       "<div>\n",
       "<style scoped>\n",
       "    .dataframe tbody tr th:only-of-type {\n",
       "        vertical-align: middle;\n",
       "    }\n",
       "\n",
       "    .dataframe tbody tr th {\n",
       "        vertical-align: top;\n",
       "    }\n",
       "\n",
       "    .dataframe thead th {\n",
       "        text-align: right;\n",
       "    }\n",
       "</style>\n",
       "<table border=\"1\" class=\"dataframe\">\n",
       "  <thead>\n",
       "    <tr style=\"text-align: right;\">\n",
       "      <th></th>\n",
       "      <th>Amount</th>\n",
       "    </tr>\n",
       "    <tr>\n",
       "      <th>Mental_illness</th>\n",
       "      <th></th>\n",
       "    </tr>\n",
       "  </thead>\n",
       "  <tbody>\n",
       "    <tr>\n",
       "      <th>False</th>\n",
       "      <td>1210</td>\n",
       "    </tr>\n",
       "    <tr>\n",
       "      <th>True</th>\n",
       "      <td>327</td>\n",
       "    </tr>\n",
       "  </tbody>\n",
       "</table>\n",
       "</div>"
      ],
      "text/plain": [
       "                Amount\n",
       "Mental_illness        \n",
       "False             1210\n",
       "True               327"
      ]
     },
     "execution_count": 44,
     "metadata": {},
     "output_type": "execute_result"
    }
   ],
   "source": [
    "ment_ill"
   ]
  },
  {
   "cell_type": "code",
   "execution_count": 54,
   "id": "4bad6fab",
   "metadata": {},
   "outputs": [],
   "source": [
    "ment_ill.to_json(\"ment_ill.json\", orient=\"index\")"
   ]
  },
  {
   "cell_type": "code",
   "execution_count": 46,
   "id": "17fce77b",
   "metadata": {},
   "outputs": [
    {
     "data": {
      "text/plain": [
       "pandas.core.frame.DataFrame"
      ]
     },
     "execution_count": 46,
     "metadata": {},
     "output_type": "execute_result"
    }
   ],
   "source": []
  }
 ],
 "metadata": {
  "kernelspec": {
   "display_name": "Python 3 (ipykernel)",
   "language": "python",
   "name": "python3"
  },
  "language_info": {
   "codemirror_mode": {
    "name": "ipython",
    "version": 3
   },
   "file_extension": ".py",
   "mimetype": "text/x-python",
   "name": "python",
   "nbconvert_exporter": "python",
   "pygments_lexer": "ipython3",
   "version": "3.9.7"
  }
 },
 "nbformat": 4,
 "nbformat_minor": 5
}
